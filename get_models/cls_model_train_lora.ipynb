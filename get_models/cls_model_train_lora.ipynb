{
  "nbformat": 4,
  "nbformat_minor": 0,
  "metadata": {
    "colab": {
      "provenance": []
    },
    "kernelspec": {
      "name": "python3",
      "display_name": "Python 3"
    },
    "language_info": {
      "name": "python"
    },
    "widgets": {
      "application/vnd.jupyter.widget-state+json": {
        "ffb7e5e460044edebff97e137b395f80": {
          "model_module": "@jupyter-widgets/controls",
          "model_name": "HBoxModel",
          "model_module_version": "1.5.0",
          "state": {
            "_dom_classes": [],
            "_model_module": "@jupyter-widgets/controls",
            "_model_module_version": "1.5.0",
            "_model_name": "HBoxModel",
            "_view_count": null,
            "_view_module": "@jupyter-widgets/controls",
            "_view_module_version": "1.5.0",
            "_view_name": "HBoxView",
            "box_style": "",
            "children": [
              "IPY_MODEL_3d4bfbc2a9704a15b2ce19c47337c26e",
              "IPY_MODEL_7ba907466d454c5aa57b1b73bbceaf92",
              "IPY_MODEL_def61ba512644965bfa7966747d52828"
            ],
            "layout": "IPY_MODEL_8c4ed0c6de404041874bf3409512e231"
          }
        },
        "3d4bfbc2a9704a15b2ce19c47337c26e": {
          "model_module": "@jupyter-widgets/controls",
          "model_name": "HTMLModel",
          "model_module_version": "1.5.0",
          "state": {
            "_dom_classes": [],
            "_model_module": "@jupyter-widgets/controls",
            "_model_module_version": "1.5.0",
            "_model_name": "HTMLModel",
            "_view_count": null,
            "_view_module": "@jupyter-widgets/controls",
            "_view_module_version": "1.5.0",
            "_view_name": "HTMLView",
            "description": "",
            "description_tooltip": null,
            "layout": "IPY_MODEL_214d265fc19f4eb9bc4f7d5905a8a0c9",
            "placeholder": "​",
            "style": "IPY_MODEL_9c621de47f6545c59e02cad6c6ddff7b",
            "value": "Map: 100%"
          }
        },
        "7ba907466d454c5aa57b1b73bbceaf92": {
          "model_module": "@jupyter-widgets/controls",
          "model_name": "FloatProgressModel",
          "model_module_version": "1.5.0",
          "state": {
            "_dom_classes": [],
            "_model_module": "@jupyter-widgets/controls",
            "_model_module_version": "1.5.0",
            "_model_name": "FloatProgressModel",
            "_view_count": null,
            "_view_module": "@jupyter-widgets/controls",
            "_view_module_version": "1.5.0",
            "_view_name": "ProgressView",
            "bar_style": "success",
            "description": "",
            "description_tooltip": null,
            "layout": "IPY_MODEL_6935ed6cfc9c469e91e658335f173b30",
            "max": 11823,
            "min": 0,
            "orientation": "horizontal",
            "style": "IPY_MODEL_8b51c38831e94d2d8290372fbe2474e2",
            "value": 11823
          }
        },
        "def61ba512644965bfa7966747d52828": {
          "model_module": "@jupyter-widgets/controls",
          "model_name": "HTMLModel",
          "model_module_version": "1.5.0",
          "state": {
            "_dom_classes": [],
            "_model_module": "@jupyter-widgets/controls",
            "_model_module_version": "1.5.0",
            "_model_name": "HTMLModel",
            "_view_count": null,
            "_view_module": "@jupyter-widgets/controls",
            "_view_module_version": "1.5.0",
            "_view_name": "HTMLView",
            "description": "",
            "description_tooltip": null,
            "layout": "IPY_MODEL_92ce6c9b94f541f885ce0cb407a980df",
            "placeholder": "​",
            "style": "IPY_MODEL_af1a0a64042248269c27622b3eadc397",
            "value": " 11823/11823 [00:05&lt;00:00, 1838.77 examples/s]"
          }
        },
        "8c4ed0c6de404041874bf3409512e231": {
          "model_module": "@jupyter-widgets/base",
          "model_name": "LayoutModel",
          "model_module_version": "1.2.0",
          "state": {
            "_model_module": "@jupyter-widgets/base",
            "_model_module_version": "1.2.0",
            "_model_name": "LayoutModel",
            "_view_count": null,
            "_view_module": "@jupyter-widgets/base",
            "_view_module_version": "1.2.0",
            "_view_name": "LayoutView",
            "align_content": null,
            "align_items": null,
            "align_self": null,
            "border": null,
            "bottom": null,
            "display": null,
            "flex": null,
            "flex_flow": null,
            "grid_area": null,
            "grid_auto_columns": null,
            "grid_auto_flow": null,
            "grid_auto_rows": null,
            "grid_column": null,
            "grid_gap": null,
            "grid_row": null,
            "grid_template_areas": null,
            "grid_template_columns": null,
            "grid_template_rows": null,
            "height": null,
            "justify_content": null,
            "justify_items": null,
            "left": null,
            "margin": null,
            "max_height": null,
            "max_width": null,
            "min_height": null,
            "min_width": null,
            "object_fit": null,
            "object_position": null,
            "order": null,
            "overflow": null,
            "overflow_x": null,
            "overflow_y": null,
            "padding": null,
            "right": null,
            "top": null,
            "visibility": null,
            "width": null
          }
        },
        "214d265fc19f4eb9bc4f7d5905a8a0c9": {
          "model_module": "@jupyter-widgets/base",
          "model_name": "LayoutModel",
          "model_module_version": "1.2.0",
          "state": {
            "_model_module": "@jupyter-widgets/base",
            "_model_module_version": "1.2.0",
            "_model_name": "LayoutModel",
            "_view_count": null,
            "_view_module": "@jupyter-widgets/base",
            "_view_module_version": "1.2.0",
            "_view_name": "LayoutView",
            "align_content": null,
            "align_items": null,
            "align_self": null,
            "border": null,
            "bottom": null,
            "display": null,
            "flex": null,
            "flex_flow": null,
            "grid_area": null,
            "grid_auto_columns": null,
            "grid_auto_flow": null,
            "grid_auto_rows": null,
            "grid_column": null,
            "grid_gap": null,
            "grid_row": null,
            "grid_template_areas": null,
            "grid_template_columns": null,
            "grid_template_rows": null,
            "height": null,
            "justify_content": null,
            "justify_items": null,
            "left": null,
            "margin": null,
            "max_height": null,
            "max_width": null,
            "min_height": null,
            "min_width": null,
            "object_fit": null,
            "object_position": null,
            "order": null,
            "overflow": null,
            "overflow_x": null,
            "overflow_y": null,
            "padding": null,
            "right": null,
            "top": null,
            "visibility": null,
            "width": null
          }
        },
        "9c621de47f6545c59e02cad6c6ddff7b": {
          "model_module": "@jupyter-widgets/controls",
          "model_name": "DescriptionStyleModel",
          "model_module_version": "1.5.0",
          "state": {
            "_model_module": "@jupyter-widgets/controls",
            "_model_module_version": "1.5.0",
            "_model_name": "DescriptionStyleModel",
            "_view_count": null,
            "_view_module": "@jupyter-widgets/base",
            "_view_module_version": "1.2.0",
            "_view_name": "StyleView",
            "description_width": ""
          }
        },
        "6935ed6cfc9c469e91e658335f173b30": {
          "model_module": "@jupyter-widgets/base",
          "model_name": "LayoutModel",
          "model_module_version": "1.2.0",
          "state": {
            "_model_module": "@jupyter-widgets/base",
            "_model_module_version": "1.2.0",
            "_model_name": "LayoutModel",
            "_view_count": null,
            "_view_module": "@jupyter-widgets/base",
            "_view_module_version": "1.2.0",
            "_view_name": "LayoutView",
            "align_content": null,
            "align_items": null,
            "align_self": null,
            "border": null,
            "bottom": null,
            "display": null,
            "flex": null,
            "flex_flow": null,
            "grid_area": null,
            "grid_auto_columns": null,
            "grid_auto_flow": null,
            "grid_auto_rows": null,
            "grid_column": null,
            "grid_gap": null,
            "grid_row": null,
            "grid_template_areas": null,
            "grid_template_columns": null,
            "grid_template_rows": null,
            "height": null,
            "justify_content": null,
            "justify_items": null,
            "left": null,
            "margin": null,
            "max_height": null,
            "max_width": null,
            "min_height": null,
            "min_width": null,
            "object_fit": null,
            "object_position": null,
            "order": null,
            "overflow": null,
            "overflow_x": null,
            "overflow_y": null,
            "padding": null,
            "right": null,
            "top": null,
            "visibility": null,
            "width": null
          }
        },
        "8b51c38831e94d2d8290372fbe2474e2": {
          "model_module": "@jupyter-widgets/controls",
          "model_name": "ProgressStyleModel",
          "model_module_version": "1.5.0",
          "state": {
            "_model_module": "@jupyter-widgets/controls",
            "_model_module_version": "1.5.0",
            "_model_name": "ProgressStyleModel",
            "_view_count": null,
            "_view_module": "@jupyter-widgets/base",
            "_view_module_version": "1.2.0",
            "_view_name": "StyleView",
            "bar_color": null,
            "description_width": ""
          }
        },
        "92ce6c9b94f541f885ce0cb407a980df": {
          "model_module": "@jupyter-widgets/base",
          "model_name": "LayoutModel",
          "model_module_version": "1.2.0",
          "state": {
            "_model_module": "@jupyter-widgets/base",
            "_model_module_version": "1.2.0",
            "_model_name": "LayoutModel",
            "_view_count": null,
            "_view_module": "@jupyter-widgets/base",
            "_view_module_version": "1.2.0",
            "_view_name": "LayoutView",
            "align_content": null,
            "align_items": null,
            "align_self": null,
            "border": null,
            "bottom": null,
            "display": null,
            "flex": null,
            "flex_flow": null,
            "grid_area": null,
            "grid_auto_columns": null,
            "grid_auto_flow": null,
            "grid_auto_rows": null,
            "grid_column": null,
            "grid_gap": null,
            "grid_row": null,
            "grid_template_areas": null,
            "grid_template_columns": null,
            "grid_template_rows": null,
            "height": null,
            "justify_content": null,
            "justify_items": null,
            "left": null,
            "margin": null,
            "max_height": null,
            "max_width": null,
            "min_height": null,
            "min_width": null,
            "object_fit": null,
            "object_position": null,
            "order": null,
            "overflow": null,
            "overflow_x": null,
            "overflow_y": null,
            "padding": null,
            "right": null,
            "top": null,
            "visibility": null,
            "width": null
          }
        },
        "af1a0a64042248269c27622b3eadc397": {
          "model_module": "@jupyter-widgets/controls",
          "model_name": "DescriptionStyleModel",
          "model_module_version": "1.5.0",
          "state": {
            "_model_module": "@jupyter-widgets/controls",
            "_model_module_version": "1.5.0",
            "_model_name": "DescriptionStyleModel",
            "_view_count": null,
            "_view_module": "@jupyter-widgets/base",
            "_view_module_version": "1.2.0",
            "_view_name": "StyleView",
            "description_width": ""
          }
        },
        "49fdebb1977f4e56a8af66b5188cc6af": {
          "model_module": "@jupyter-widgets/controls",
          "model_name": "VBoxModel",
          "model_module_version": "1.5.0",
          "state": {
            "_dom_classes": [],
            "_model_module": "@jupyter-widgets/controls",
            "_model_module_version": "1.5.0",
            "_model_name": "VBoxModel",
            "_view_count": null,
            "_view_module": "@jupyter-widgets/controls",
            "_view_module_version": "1.5.0",
            "_view_name": "VBoxView",
            "box_style": "",
            "children": [
              "IPY_MODEL_fe9baf055a2f4aaebcc02f36bbc895a2",
              "IPY_MODEL_9905af6ebc3e4fca8063b14a40c582ee"
            ],
            "layout": "IPY_MODEL_4de2896f93c24a07833f80e9fdfe2bbf"
          }
        },
        "fe9baf055a2f4aaebcc02f36bbc895a2": {
          "model_module": "@jupyter-widgets/controls",
          "model_name": "LabelModel",
          "model_module_version": "1.5.0",
          "state": {
            "_dom_classes": [],
            "_model_module": "@jupyter-widgets/controls",
            "_model_module_version": "1.5.0",
            "_model_name": "LabelModel",
            "_view_count": null,
            "_view_module": "@jupyter-widgets/controls",
            "_view_module_version": "1.5.0",
            "_view_name": "LabelView",
            "description": "",
            "description_tooltip": null,
            "layout": "IPY_MODEL_10556fe9553e4bf8911885a0e66cac7e",
            "placeholder": "​",
            "style": "IPY_MODEL_0446eb3df2104173b4595ae813eb3e89",
            "value": "0.028 MB of 0.028 MB uploaded\r"
          }
        },
        "9905af6ebc3e4fca8063b14a40c582ee": {
          "model_module": "@jupyter-widgets/controls",
          "model_name": "FloatProgressModel",
          "model_module_version": "1.5.0",
          "state": {
            "_dom_classes": [],
            "_model_module": "@jupyter-widgets/controls",
            "_model_module_version": "1.5.0",
            "_model_name": "FloatProgressModel",
            "_view_count": null,
            "_view_module": "@jupyter-widgets/controls",
            "_view_module_version": "1.5.0",
            "_view_name": "ProgressView",
            "bar_style": "",
            "description": "",
            "description_tooltip": null,
            "layout": "IPY_MODEL_5360fb5c8b434ed9925cc75d7463832c",
            "max": 1,
            "min": 0,
            "orientation": "horizontal",
            "style": "IPY_MODEL_6dcd963d39ca4b7888b025bd0d655b35",
            "value": 1
          }
        },
        "4de2896f93c24a07833f80e9fdfe2bbf": {
          "model_module": "@jupyter-widgets/base",
          "model_name": "LayoutModel",
          "model_module_version": "1.2.0",
          "state": {
            "_model_module": "@jupyter-widgets/base",
            "_model_module_version": "1.2.0",
            "_model_name": "LayoutModel",
            "_view_count": null,
            "_view_module": "@jupyter-widgets/base",
            "_view_module_version": "1.2.0",
            "_view_name": "LayoutView",
            "align_content": null,
            "align_items": null,
            "align_self": null,
            "border": null,
            "bottom": null,
            "display": null,
            "flex": null,
            "flex_flow": null,
            "grid_area": null,
            "grid_auto_columns": null,
            "grid_auto_flow": null,
            "grid_auto_rows": null,
            "grid_column": null,
            "grid_gap": null,
            "grid_row": null,
            "grid_template_areas": null,
            "grid_template_columns": null,
            "grid_template_rows": null,
            "height": null,
            "justify_content": null,
            "justify_items": null,
            "left": null,
            "margin": null,
            "max_height": null,
            "max_width": null,
            "min_height": null,
            "min_width": null,
            "object_fit": null,
            "object_position": null,
            "order": null,
            "overflow": null,
            "overflow_x": null,
            "overflow_y": null,
            "padding": null,
            "right": null,
            "top": null,
            "visibility": null,
            "width": null
          }
        },
        "10556fe9553e4bf8911885a0e66cac7e": {
          "model_module": "@jupyter-widgets/base",
          "model_name": "LayoutModel",
          "model_module_version": "1.2.0",
          "state": {
            "_model_module": "@jupyter-widgets/base",
            "_model_module_version": "1.2.0",
            "_model_name": "LayoutModel",
            "_view_count": null,
            "_view_module": "@jupyter-widgets/base",
            "_view_module_version": "1.2.0",
            "_view_name": "LayoutView",
            "align_content": null,
            "align_items": null,
            "align_self": null,
            "border": null,
            "bottom": null,
            "display": null,
            "flex": null,
            "flex_flow": null,
            "grid_area": null,
            "grid_auto_columns": null,
            "grid_auto_flow": null,
            "grid_auto_rows": null,
            "grid_column": null,
            "grid_gap": null,
            "grid_row": null,
            "grid_template_areas": null,
            "grid_template_columns": null,
            "grid_template_rows": null,
            "height": null,
            "justify_content": null,
            "justify_items": null,
            "left": null,
            "margin": null,
            "max_height": null,
            "max_width": null,
            "min_height": null,
            "min_width": null,
            "object_fit": null,
            "object_position": null,
            "order": null,
            "overflow": null,
            "overflow_x": null,
            "overflow_y": null,
            "padding": null,
            "right": null,
            "top": null,
            "visibility": null,
            "width": null
          }
        },
        "0446eb3df2104173b4595ae813eb3e89": {
          "model_module": "@jupyter-widgets/controls",
          "model_name": "DescriptionStyleModel",
          "model_module_version": "1.5.0",
          "state": {
            "_model_module": "@jupyter-widgets/controls",
            "_model_module_version": "1.5.0",
            "_model_name": "DescriptionStyleModel",
            "_view_count": null,
            "_view_module": "@jupyter-widgets/base",
            "_view_module_version": "1.2.0",
            "_view_name": "StyleView",
            "description_width": ""
          }
        },
        "5360fb5c8b434ed9925cc75d7463832c": {
          "model_module": "@jupyter-widgets/base",
          "model_name": "LayoutModel",
          "model_module_version": "1.2.0",
          "state": {
            "_model_module": "@jupyter-widgets/base",
            "_model_module_version": "1.2.0",
            "_model_name": "LayoutModel",
            "_view_count": null,
            "_view_module": "@jupyter-widgets/base",
            "_view_module_version": "1.2.0",
            "_view_name": "LayoutView",
            "align_content": null,
            "align_items": null,
            "align_self": null,
            "border": null,
            "bottom": null,
            "display": null,
            "flex": null,
            "flex_flow": null,
            "grid_area": null,
            "grid_auto_columns": null,
            "grid_auto_flow": null,
            "grid_auto_rows": null,
            "grid_column": null,
            "grid_gap": null,
            "grid_row": null,
            "grid_template_areas": null,
            "grid_template_columns": null,
            "grid_template_rows": null,
            "height": null,
            "justify_content": null,
            "justify_items": null,
            "left": null,
            "margin": null,
            "max_height": null,
            "max_width": null,
            "min_height": null,
            "min_width": null,
            "object_fit": null,
            "object_position": null,
            "order": null,
            "overflow": null,
            "overflow_x": null,
            "overflow_y": null,
            "padding": null,
            "right": null,
            "top": null,
            "visibility": null,
            "width": null
          }
        },
        "6dcd963d39ca4b7888b025bd0d655b35": {
          "model_module": "@jupyter-widgets/controls",
          "model_name": "ProgressStyleModel",
          "model_module_version": "1.5.0",
          "state": {
            "_model_module": "@jupyter-widgets/controls",
            "_model_module_version": "1.5.0",
            "_model_name": "ProgressStyleModel",
            "_view_count": null,
            "_view_module": "@jupyter-widgets/base",
            "_view_module_version": "1.2.0",
            "_view_name": "StyleView",
            "bar_color": null,
            "description_width": ""
          }
        }
      }
    }
  },
  "cells": [
    {
      "cell_type": "code",
      "source": [
        "import pandas as pd\n",
        "import urllib.request\n",
        "\n",
        "# 데이터 로드\n",
        "# 변경 예정\n",
        "urllib.request.urlretrieve(\n",
        "    \"https://raw.githubusercontent.com/songys/Chatbot_data/master/ChatbotData.csv\",\n",
        "    filename=\"ChatBotData.csv\",\n",
        ")\n",
        "df = pd.read_csv(\"ChatBotData.csv\")"
      ],
      "metadata": {
        "id": "rekrHCI5Yk-a"
      },
      "execution_count": 1,
      "outputs": []
    },
    {
      "cell_type": "code",
      "source": [
        "# 랜덤 라벨 데이터 생성\n",
        "# 실제 데이터셋 사용 시 제거\n",
        "import numpy as np\n",
        "\n",
        "np.random.seed(42)\n",
        "\n",
        "# 클래스 수 설정\n",
        "num_classes = 5\n",
        "\n",
        "# 데이터 샘플 수 설정\n",
        "num_samples = len(df['Q'])\n",
        "\n",
        "# 랜덤 레이블 생성 함수\n",
        "def generate_random_labels(num_samples, num_classes):\n",
        "    labels = []\n",
        "    for _ in range(num_samples):\n",
        "        num_labels = np.random.randint(1, num_classes + 1)  # 각 샘플에 최소 1개 이상의 클래스가 할당되도록\n",
        "        label_indices = np.random.choice(num_classes, num_labels, replace=False)\n",
        "        labels.append(label_indices.tolist())\n",
        "    return labels\n",
        "\n",
        "df['label'] = generate_random_labels(num_samples, num_classes)"
      ],
      "metadata": {
        "id": "zxzSakw0YHAI"
      },
      "execution_count": 2,
      "outputs": []
    },
    {
      "cell_type": "code",
      "source": [
        "from transformers import PreTrainedTokenizerFast\n",
        "\n",
        "Q_TKN = \"<Q>\"\n",
        "A_TKN = \"<A>\"\n",
        "BOS = '</s>'\n",
        "EOS = '</s>'\n",
        "UNK = '<unk>'\n",
        "MASK = '<unused0>'\n",
        "SENT = '<unused1>'\n",
        "PAD = '<pad>'\n",
        "\n",
        "# KoGPT2 토크나이저 로드\n",
        "tokenizer = PreTrainedTokenizerFast.from_pretrained(\"skt/kogpt2-base-v2\",\n",
        "            bos_token=BOS, eos_token=EOS, unk_token=UNK,\n",
        "            pad_token=PAD, mask_token=MASK)"
      ],
      "metadata": {
        "colab": {
          "base_uri": "https://localhost:8080/"
        },
        "id": "Bjxuuf7HbisE",
        "outputId": "a1928dba-6d57-45df-c719-e81fdfa056c8"
      },
      "execution_count": 3,
      "outputs": [
        {
          "output_type": "stream",
          "name": "stderr",
          "text": [
            "/usr/local/lib/python3.10/dist-packages/huggingface_hub/utils/_token.py:89: UserWarning: \n",
            "The secret `HF_TOKEN` does not exist in your Colab secrets.\n",
            "To authenticate with the Hugging Face Hub, create a token in your settings tab (https://huggingface.co/settings/tokens), set it as secret in your Google Colab and restart your session.\n",
            "You will be able to reuse this secret in all of your notebooks.\n",
            "Please note that authentication is recommended but still optional to access public models or datasets.\n",
            "  warnings.warn(\n",
            "The tokenizer class you load from this checkpoint is not the same type as the class this function is called from. It may result in unexpected tokenization. \n",
            "The tokenizer class you load from this checkpoint is 'GPT2Tokenizer'. \n",
            "The class this function is called from is 'PreTrainedTokenizerFast'.\n"
          ]
        }
      ]
    },
    {
      "cell_type": "code",
      "source": [
        "from datasets import Dataset\n",
        "from sklearn.preprocessing import MultiLabelBinarizer\n",
        "\n",
        "dataset = Dataset.from_pandas(df)\n",
        "\n",
        "def get_cls_input(examples):\n",
        "    inputs = examples['Q']\n",
        "    labels = examples['label']\n",
        "    model_inputs = tokenizer(inputs, max_length=128, truncation=True, padding=\"max_length\")\n",
        "\n",
        "    label_classes = [0, 1, 2, 3, 4]\n",
        "    mlb = MultiLabelBinarizer(classes=label_classes)\n",
        "    labels_binary = mlb.fit_transform(labels)\n",
        "    labels = labels_binary.astype(np.float32).tolist()\n",
        "    model_inputs[\"labels\"] = labels\n",
        "    return model_inputs\n",
        "\n",
        "# 데이터셋 전처리\n",
        "tokenized_datasets = dataset.map(get_cls_input, batched=True)\n"
      ],
      "metadata": {
        "colab": {
          "base_uri": "https://localhost:8080/",
          "height": 49,
          "referenced_widgets": [
            "ffb7e5e460044edebff97e137b395f80",
            "3d4bfbc2a9704a15b2ce19c47337c26e",
            "7ba907466d454c5aa57b1b73bbceaf92",
            "def61ba512644965bfa7966747d52828",
            "8c4ed0c6de404041874bf3409512e231",
            "214d265fc19f4eb9bc4f7d5905a8a0c9",
            "9c621de47f6545c59e02cad6c6ddff7b",
            "6935ed6cfc9c469e91e658335f173b30",
            "8b51c38831e94d2d8290372fbe2474e2",
            "92ce6c9b94f541f885ce0cb407a980df",
            "af1a0a64042248269c27622b3eadc397"
          ]
        },
        "id": "MSeTbOuuOaoe",
        "outputId": "1d225fe1-941b-4cde-eb79-0155cf44502a"
      },
      "execution_count": 4,
      "outputs": [
        {
          "output_type": "display_data",
          "data": {
            "text/plain": [
              "Map:   0%|          | 0/11823 [00:00<?, ? examples/s]"
            ],
            "application/vnd.jupyter.widget-view+json": {
              "version_major": 2,
              "version_minor": 0,
              "model_id": "ffb7e5e460044edebff97e137b395f80"
            }
          },
          "metadata": {}
        }
      ]
    },
    {
      "cell_type": "code",
      "source": [
        "# 데이터 크기 줄이기 위함\n",
        "dataset = tokenized_datasets.train_test_split(test_size=0.005)\n",
        "\n",
        "# 검증 데이터 분할\n",
        "train_test_dataset = dataset['test'].train_test_split(test_size=0.2)\n",
        "\n",
        "train_dataset = train_test_dataset['train']\n",
        "test_dataset = train_test_dataset['test']"
      ],
      "metadata": {
        "id": "7LroaR3YRz3l"
      },
      "execution_count": 5,
      "outputs": []
    },
    {
      "cell_type": "code",
      "source": [
        "import wandb\n",
        "\n",
        "wandb.login()"
      ],
      "metadata": {
        "colab": {
          "base_uri": "https://localhost:8080/"
        },
        "id": "bkDQWPm4lF_O",
        "outputId": "3bded73e-1967-4d7c-960b-19d7e106f32b"
      },
      "execution_count": 6,
      "outputs": [
        {
          "output_type": "stream",
          "name": "stderr",
          "text": [
            "\u001b[34m\u001b[1mwandb\u001b[0m: Currently logged in as: \u001b[33mnkim12\u001b[0m (\u001b[33mnkim123\u001b[0m). Use \u001b[1m`wandb login --relogin`\u001b[0m to force relogin\n"
          ]
        },
        {
          "output_type": "execute_result",
          "data": {
            "text/plain": [
              "True"
            ]
          },
          "metadata": {},
          "execution_count": 6
        }
      ]
    },
    {
      "cell_type": "code",
      "source": [
        "# method\n",
        "sweep_config = {\n",
        "    'method': 'random'\n",
        "}\n",
        "\n",
        "# hyperparameters\n",
        "parameters_dict = {\n",
        "    'learning_rate': {\n",
        "        'distribution': 'log_uniform_values',\n",
        "        'min': 1e-5,\n",
        "        'max': 7e-5\n",
        "    },\n",
        "    'weight_decay': {\n",
        "        'values': [0.1, 0.3, 0.5]\n",
        "    },\n",
        "    'train_batch_size': {\n",
        "        'values': [8, 16, 32]\n",
        "    },\n",
        "    'eval_batch_size': {\n",
        "        'values': [8, 16, 32]\n",
        "    }\n",
        "}\n",
        "\n",
        "sweep_config['parameters'] = parameters_dict"
      ],
      "metadata": {
        "id": "yjl_HN0nlN5H"
      },
      "execution_count": 7,
      "outputs": []
    },
    {
      "cell_type": "code",
      "source": [
        "from peft import LoraConfig, TaskType, get_peft_model\n",
        "\n",
        "peft_config = LoraConfig(\n",
        "    task_type=\"SEQ_CLS\",\n",
        "    inference_mode=False,\n",
        "    r=8,\n",
        "    lora_alpha=32,\n",
        "    lora_dropout=0.1,\n",
        "    bias=\"none\")"
      ],
      "metadata": {
        "id": "-WIirUi-PecC"
      },
      "execution_count": 8,
      "outputs": []
    },
    {
      "cell_type": "code",
      "source": [
        "import evaluate\n",
        "\n",
        "def compute_metrics(pred):\n",
        "    logits, labels = pred\n",
        "    predictions = (logits > 0).astype(int)  # 시그모이드 활성화 함수 적용 후 임계값 0.5 기준으로 이진화\n",
        "\n",
        "    labels = labels.flatten()\n",
        "    predictions = predictions.flatten()\n",
        "\n",
        "    # 정확도, F1 score 계산\n",
        "    acc_metrics = evaluate.load(\"accuracy\")\n",
        "    accuracy = acc_metrics.compute(predictions=predictions, references=labels)\n",
        "\n",
        "    f1_metrics = evaluate.load(\"f1\")\n",
        "    f1 = f1_metrics.compute(predictions=predictions, references=labels)\n",
        "\n",
        "    return {\"accuracy\": accuracy, \"f1_metrics\": f1}"
      ],
      "metadata": {
        "id": "ioI6tFejdx0U"
      },
      "execution_count": 9,
      "outputs": []
    },
    {
      "cell_type": "code",
      "source": [
        "from transformers import AutoModelForSequenceClassification, Trainer, TrainingArguments\n",
        "\n",
        "def train():\n",
        "  wandb.init()\n",
        "  config = wandb.config\n",
        "\n",
        "  # KoGPT2 모델 로드\n",
        "  model = AutoModelForSequenceClassification.from_pretrained(\n",
        "      \"skt/kogpt2-base-v2\",\n",
        "      num_labels=5,\n",
        "      problem_type=\"multi_label_classification\"\n",
        "  )\n",
        "  # lora 적용\n",
        "  model = get_peft_model(model, peft_config)\n",
        "\n",
        "  # 학습 설정\n",
        "  training_args = TrainingArguments(\n",
        "      fp16=True,\n",
        "      output_dir='./results',\n",
        "      num_train_epochs=1,\n",
        "      learning_rate=config.learning_rate,\n",
        "      per_device_train_batch_size=1,\n",
        "      per_device_eval_batch_size=1,\n",
        "      warmup_steps=500,\n",
        "      weight_decay=config.weight_decay,\n",
        "      logging_dir='./logs',\n",
        "      logging_steps=0.1,\n",
        "      do_eval=True,\n",
        "      evaluation_strategy=\"steps\",\n",
        "      eval_steps=0.2,\n",
        "  )\n",
        "\n",
        "  # Trainer 설정\n",
        "  trainer = Trainer(\n",
        "      model=model,\n",
        "      args=training_args,\n",
        "      train_dataset=train_dataset,\n",
        "      eval_dataset=test_dataset,\n",
        "      compute_metrics=compute_metrics,\n",
        "  )\n",
        "\n",
        "  trainer.train()\n",
        "\n",
        "  model.save_pretrained('./kogpt2-classification')\n",
        "  tokenizer.save_pretrained('./kogpt2-classification')"
      ],
      "metadata": {
        "id": "O5iv4FgaOEE0"
      },
      "execution_count": 10,
      "outputs": []
    },
    {
      "cell_type": "code",
      "source": [
        "# 캐시 지우기\n",
        "import torch, gc\n",
        "\n",
        "gc.collect()\n",
        "torch.cuda.empty_cache()"
      ],
      "metadata": {
        "id": "re_5JLbPlo7d"
      },
      "execution_count": 11,
      "outputs": []
    },
    {
      "cell_type": "code",
      "source": [
        "sweep_id = wandb.sweep(sweep_config, entity='nkim123', project='minidlthon_kogpt2_classification')\n",
        "\n",
        "wandb.agent(sweep_id, train, count=1)\n",
        "\n",
        "wandb.finish()"
      ],
      "metadata": {
        "colab": {
          "base_uri": "https://localhost:8080/",
          "height": 1000,
          "referenced_widgets": [
            "49fdebb1977f4e56a8af66b5188cc6af",
            "fe9baf055a2f4aaebcc02f36bbc895a2",
            "9905af6ebc3e4fca8063b14a40c582ee",
            "4de2896f93c24a07833f80e9fdfe2bbf",
            "10556fe9553e4bf8911885a0e66cac7e",
            "0446eb3df2104173b4595ae813eb3e89",
            "5360fb5c8b434ed9925cc75d7463832c",
            "6dcd963d39ca4b7888b025bd0d655b35"
          ]
        },
        "id": "APPrHolWlqlu",
        "outputId": "757aed29-8922-4460-e413-6a1e033ba003"
      },
      "execution_count": 12,
      "outputs": [
        {
          "output_type": "stream",
          "name": "stdout",
          "text": [
            "Create sweep with ID: 67wwlzrt\n",
            "Sweep URL: https://wandb.ai/nkim123/minidlthon_kogpt2_classification/sweeps/67wwlzrt\n"
          ]
        },
        {
          "output_type": "stream",
          "name": "stderr",
          "text": [
            "\u001b[34m\u001b[1mwandb\u001b[0m: Agent Starting Run: hk9m00fy with config:\n",
            "\u001b[34m\u001b[1mwandb\u001b[0m: \teval_batch_size: 32\n",
            "\u001b[34m\u001b[1mwandb\u001b[0m: \tlearning_rate: 4.599576244692246e-05\n",
            "\u001b[34m\u001b[1mwandb\u001b[0m: \ttrain_batch_size: 8\n",
            "\u001b[34m\u001b[1mwandb\u001b[0m: \tweight_decay: 0.5\n"
          ]
        },
        {
          "output_type": "display_data",
          "data": {
            "text/plain": [
              "<IPython.core.display.HTML object>"
            ],
            "text/html": [
              "Tracking run with wandb version 0.17.5"
            ]
          },
          "metadata": {}
        },
        {
          "output_type": "display_data",
          "data": {
            "text/plain": [
              "<IPython.core.display.HTML object>"
            ],
            "text/html": [
              "Run data is saved locally in <code>/content/wandb/run-20240805_065619-hk9m00fy</code>"
            ]
          },
          "metadata": {}
        },
        {
          "output_type": "display_data",
          "data": {
            "text/plain": [
              "<IPython.core.display.HTML object>"
            ],
            "text/html": [
              "Syncing run <strong><a href='https://wandb.ai/nkim123/minidlthon_kogpt2_classification/runs/hk9m00fy' target=\"_blank\">gentle-sweep-1</a></strong> to <a href='https://wandb.ai/nkim123/minidlthon_kogpt2_classification' target=\"_blank\">Weights & Biases</a> (<a href='https://wandb.me/run' target=\"_blank\">docs</a>)<br/>Sweep page: <a href='https://wandb.ai/nkim123/minidlthon_kogpt2_classification/sweeps/67wwlzrt' target=\"_blank\">https://wandb.ai/nkim123/minidlthon_kogpt2_classification/sweeps/67wwlzrt</a>"
            ]
          },
          "metadata": {}
        },
        {
          "output_type": "display_data",
          "data": {
            "text/plain": [
              "<IPython.core.display.HTML object>"
            ],
            "text/html": [
              " View project at <a href='https://wandb.ai/nkim123/minidlthon_kogpt2_classification' target=\"_blank\">https://wandb.ai/nkim123/minidlthon_kogpt2_classification</a>"
            ]
          },
          "metadata": {}
        },
        {
          "output_type": "display_data",
          "data": {
            "text/plain": [
              "<IPython.core.display.HTML object>"
            ],
            "text/html": [
              " View sweep at <a href='https://wandb.ai/nkim123/minidlthon_kogpt2_classification/sweeps/67wwlzrt' target=\"_blank\">https://wandb.ai/nkim123/minidlthon_kogpt2_classification/sweeps/67wwlzrt</a>"
            ]
          },
          "metadata": {}
        },
        {
          "output_type": "display_data",
          "data": {
            "text/plain": [
              "<IPython.core.display.HTML object>"
            ],
            "text/html": [
              " View run at <a href='https://wandb.ai/nkim123/minidlthon_kogpt2_classification/runs/hk9m00fy' target=\"_blank\">https://wandb.ai/nkim123/minidlthon_kogpt2_classification/runs/hk9m00fy</a>"
            ]
          },
          "metadata": {}
        },
        {
          "output_type": "stream",
          "name": "stderr",
          "text": [
            "Some weights of GPT2ForSequenceClassification were not initialized from the model checkpoint at skt/kogpt2-base-v2 and are newly initialized: ['score.weight']\n",
            "You should probably TRAIN this model on a down-stream task to be able to use it for predictions and inference.\n",
            "/usr/local/lib/python3.10/dist-packages/peft/tuners/lora/layer.py:1091: UserWarning: fan_in_fan_out is set to False but the target module is `Conv1D`. Setting fan_in_fan_out to True.\n",
            "  warnings.warn(\n",
            "/usr/local/lib/python3.10/dist-packages/transformers/training_args.py:1494: FutureWarning: `evaluation_strategy` is deprecated and will be removed in version 4.46 of 🤗 Transformers. Use `eval_strategy` instead\n",
            "  warnings.warn(\n",
            "\u001b[34m\u001b[1mwandb\u001b[0m: \u001b[33mWARNING\u001b[0m The `run_name` is currently set to the same value as `TrainingArguments.output_dir`. If this was not intended, please specify a different run name by setting the `TrainingArguments.run_name` parameter.\n",
            "\u001b[34m\u001b[1mwandb\u001b[0m: \u001b[33mWARNING\u001b[0m Config item 'learning_rate' was locked by 'sweep' (ignored update).\n",
            "\u001b[34m\u001b[1mwandb\u001b[0m: \u001b[33mWARNING\u001b[0m Config item 'weight_decay' was locked by 'sweep' (ignored update).\n"
          ]
        },
        {
          "output_type": "display_data",
          "data": {
            "text/plain": [
              "<IPython.core.display.HTML object>"
            ],
            "text/html": [
              "\n",
              "    <div>\n",
              "      \n",
              "      <progress value='48' max='48' style='width:300px; height:20px; vertical-align: middle;'></progress>\n",
              "      [48/48 01:21, Epoch 1/1]\n",
              "    </div>\n",
              "    <table border=\"1\" class=\"dataframe\">\n",
              "  <thead>\n",
              " <tr style=\"text-align: left;\">\n",
              "      <th>Step</th>\n",
              "      <th>Training Loss</th>\n",
              "      <th>Validation Loss</th>\n",
              "      <th>Accuracy</th>\n",
              "      <th>F1 Metrics</th>\n",
              "    </tr>\n",
              "  </thead>\n",
              "  <tbody>\n",
              "    <tr>\n",
              "      <td>10</td>\n",
              "      <td>0.748700</td>\n",
              "      <td>0.791446</td>\n",
              "      <td>{'accuracy': 0.4666666666666667}</td>\n",
              "      <td>{'f1': 0.5294117647058824}</td>\n",
              "    </tr>\n",
              "    <tr>\n",
              "      <td>20</td>\n",
              "      <td>0.715800</td>\n",
              "      <td>0.790620</td>\n",
              "      <td>{'accuracy': 0.4666666666666667}</td>\n",
              "      <td>{'f1': 0.5294117647058824}</td>\n",
              "    </tr>\n",
              "    <tr>\n",
              "      <td>30</td>\n",
              "      <td>0.690100</td>\n",
              "      <td>0.789463</td>\n",
              "      <td>{'accuracy': 0.4666666666666667}</td>\n",
              "      <td>{'f1': 0.5294117647058824}</td>\n",
              "    </tr>\n",
              "    <tr>\n",
              "      <td>40</td>\n",
              "      <td>0.862200</td>\n",
              "      <td>0.788107</td>\n",
              "      <td>{'accuracy': 0.4666666666666667}</td>\n",
              "      <td>{'f1': 0.5294117647058824}</td>\n",
              "    </tr>\n",
              "  </tbody>\n",
              "</table><p>"
            ]
          },
          "metadata": {}
        },
        {
          "output_type": "stream",
          "name": "stderr",
          "text": [
            "Trainer is attempting to log a value of \"{'accuracy': 0.4666666666666667}\" of type <class 'dict'> for key \"eval/accuracy\" as a scalar. This invocation of Tensorboard's writer.add_scalar() is incorrect so we dropped this attribute.\n",
            "Trainer is attempting to log a value of \"{'f1': 0.5294117647058824}\" of type <class 'dict'> for key \"eval/f1_metrics\" as a scalar. This invocation of Tensorboard's writer.add_scalar() is incorrect so we dropped this attribute.\n",
            "Trainer is attempting to log a value of \"{'accuracy': 0.4666666666666667}\" of type <class 'dict'> for key \"eval/accuracy\" as a scalar. This invocation of Tensorboard's writer.add_scalar() is incorrect so we dropped this attribute.\n",
            "Trainer is attempting to log a value of \"{'f1': 0.5294117647058824}\" of type <class 'dict'> for key \"eval/f1_metrics\" as a scalar. This invocation of Tensorboard's writer.add_scalar() is incorrect so we dropped this attribute.\n",
            "Trainer is attempting to log a value of \"{'accuracy': 0.4666666666666667}\" of type <class 'dict'> for key \"eval/accuracy\" as a scalar. This invocation of Tensorboard's writer.add_scalar() is incorrect so we dropped this attribute.\n",
            "Trainer is attempting to log a value of \"{'f1': 0.5294117647058824}\" of type <class 'dict'> for key \"eval/f1_metrics\" as a scalar. This invocation of Tensorboard's writer.add_scalar() is incorrect so we dropped this attribute.\n",
            "Trainer is attempting to log a value of \"{'accuracy': 0.4666666666666667}\" of type <class 'dict'> for key \"eval/accuracy\" as a scalar. This invocation of Tensorboard's writer.add_scalar() is incorrect so we dropped this attribute.\n",
            "Trainer is attempting to log a value of \"{'f1': 0.5294117647058824}\" of type <class 'dict'> for key \"eval/f1_metrics\" as a scalar. This invocation of Tensorboard's writer.add_scalar() is incorrect so we dropped this attribute.\n"
          ]
        },
        {
          "output_type": "display_data",
          "data": {
            "text/plain": [
              "VBox(children=(Label(value='0.003 MB of 0.028 MB uploaded\\r'), FloatProgress(value=0.10188613947049663, max=1.…"
            ],
            "application/vnd.jupyter.widget-view+json": {
              "version_major": 2,
              "version_minor": 0,
              "model_id": "49fdebb1977f4e56a8af66b5188cc6af"
            }
          },
          "metadata": {}
        },
        {
          "output_type": "display_data",
          "data": {
            "text/plain": [
              "<IPython.core.display.HTML object>"
            ],
            "text/html": [
              "<style>\n",
              "    table.wandb td:nth-child(1) { padding: 0 10px; text-align: left ; width: auto;} td:nth-child(2) {text-align: left ; width: 100%}\n",
              "    .wandb-row { display: flex; flex-direction: row; flex-wrap: wrap; justify-content: flex-start; width: 100% }\n",
              "    .wandb-col { display: flex; flex-direction: column; flex-basis: 100%; flex: 1; padding: 10px; }\n",
              "    </style>\n",
              "<div class=\"wandb-row\"><div class=\"wandb-col\"><h3>Run history:</h3><br/><table class=\"wandb\"><tr><td>eval/loss</td><td>█▆▄▁</td></tr><tr><td>eval/runtime</td><td>▁▃█▂</td></tr><tr><td>eval/samples_per_second</td><td>█▅▁▆</td></tr><tr><td>eval/steps_per_second</td><td>█▅▁▆</td></tr><tr><td>train/epoch</td><td>▁▂▂▃▃▃▄▅▅▆▇▇██</td></tr><tr><td>train/global_step</td><td>▁▂▂▃▃▃▄▅▅▆▇▇██</td></tr><tr><td>train/grad_norm</td><td>▆▇▃█▆▁▄▅▄</td></tr><tr><td>train/learning_rate</td><td>▁▂▃▄▄▅▆▇█</td></tr><tr><td>train/loss</td><td>▇▃▇▂█▁▂█▃</td></tr></table><br/></div><div class=\"wandb-col\"><h3>Run summary:</h3><br/><table class=\"wandb\"><tr><td>eval/loss</td><td>0.78811</td></tr><tr><td>eval/runtime</td><td>6.7193</td></tr><tr><td>eval/samples_per_second</td><td>1.786</td></tr><tr><td>eval/steps_per_second</td><td>1.786</td></tr><tr><td>total_flos</td><td>3146659135488.0</td></tr><tr><td>train/epoch</td><td>1.0</td></tr><tr><td>train/global_step</td><td>48</td></tr><tr><td>train/grad_norm</td><td>10.17744</td></tr><tr><td>train/learning_rate</td><td>0.0</td></tr><tr><td>train/loss</td><td>0.7332</td></tr><tr><td>train_loss</td><td>0.77084</td></tr><tr><td>train_runtime</td><td>85.3293</td></tr><tr><td>train_samples_per_second</td><td>0.563</td></tr><tr><td>train_steps_per_second</td><td>0.563</td></tr></table><br/></div></div>"
            ]
          },
          "metadata": {}
        },
        {
          "output_type": "display_data",
          "data": {
            "text/plain": [
              "<IPython.core.display.HTML object>"
            ],
            "text/html": [
              " View run <strong style=\"color:#cdcd00\">gentle-sweep-1</strong> at: <a href='https://wandb.ai/nkim123/minidlthon_kogpt2_classification/runs/hk9m00fy' target=\"_blank\">https://wandb.ai/nkim123/minidlthon_kogpt2_classification/runs/hk9m00fy</a><br/> View project at: <a href='https://wandb.ai/nkim123/minidlthon_kogpt2_classification' target=\"_blank\">https://wandb.ai/nkim123/minidlthon_kogpt2_classification</a><br/>Synced 5 W&B file(s), 0 media file(s), 1 artifact file(s) and 0 other file(s)"
            ]
          },
          "metadata": {}
        },
        {
          "output_type": "display_data",
          "data": {
            "text/plain": [
              "<IPython.core.display.HTML object>"
            ],
            "text/html": [
              "Find logs at: <code>./wandb/run-20240805_065619-hk9m00fy/logs</code>"
            ]
          },
          "metadata": {}
        },
        {
          "output_type": "display_data",
          "data": {
            "text/plain": [
              "<IPython.core.display.HTML object>"
            ],
            "text/html": [
              "The new W&B backend becomes opt-out in version 0.18.0; try it out with `wandb.require(\"core\")`! See https://wandb.me/wandb-core for more information."
            ]
          },
          "metadata": {}
        }
      ]
    },
    {
      "cell_type": "code",
      "source": [
        "# 저장된 모델 및 토크나이저 로드\n",
        "model = AutoModelForSequenceClassification.from_pretrained(\n",
        "      './kogpt2-classification',\n",
        "      num_labels=5,\n",
        "      problem_type=\"multi_label_classification\"\n",
        ")\n",
        "trained_model = get_peft_model(model, peft_config)\n",
        "trained_tokenizer = PreTrainedTokenizerFast.from_pretrained('./kogpt2-classification')"
      ],
      "metadata": {
        "colab": {
          "base_uri": "https://localhost:8080/"
        },
        "id": "kBBKdvjEPysX",
        "outputId": "8940b1c5-60ae-4047-81bd-2f02bedb4ec1"
      },
      "execution_count": 13,
      "outputs": [
        {
          "output_type": "stream",
          "name": "stderr",
          "text": [
            "Some weights of GPT2ForSequenceClassification were not initialized from the model checkpoint at skt/kogpt2-base-v2 and are newly initialized: ['score.weight']\n",
            "You should probably TRAIN this model on a down-stream task to be able to use it for predictions and inference.\n"
          ]
        }
      ]
    },
    {
      "cell_type": "code",
      "source": [
        "import torch\n",
        "\n",
        "def predict(text, model, tokenizer, threshold=0.6):\n",
        "    # 모델을 평가 모드로 전환\n",
        "    model.eval()\n",
        "\n",
        "    # 입력 문장 토큰화\n",
        "    inputs = tokenizer(text, return_tensors='pt', truncation=True, padding=True, max_length=128)\n",
        "\n",
        "    # 모델에 입력을 전달하여 로짓(logits)을 얻음\n",
        "    with torch.no_grad():\n",
        "        outputs = model(**inputs)\n",
        "        logits = outputs.logits\n",
        "\n",
        "    # 로짓에 시그모이드 적용하여 확률로 변환\n",
        "    probabilities = torch.sigmoid(logits)\n",
        "    # 임계값을 기준으로 이진화\n",
        "    predictions = (probabilities > threshold).int()\n",
        "\n",
        "    # 레이블 디코딩\n",
        "    label_classes = [0, 1, 2, 3, 4]\n",
        "    predicted_labels = [label_classes[i] for i in range(num_classes) if predictions[0][i] == 1]\n",
        "\n",
        "    return predicted_labels\n"
      ],
      "metadata": {
        "id": "jtfCpozqniLp"
      },
      "execution_count": 14,
      "outputs": []
    },
    {
      "cell_type": "code",
      "source": [
        "# 예제 입력 문장\n",
        "input_text = \"왜?\"\n",
        "\n",
        "# 분류 결과 추론\n",
        "# threshold 잘 설정해야\n",
        "predicted_labels = predict(input_text, trained_model, trained_tokenizer)\n",
        "print(f\"Predicted labels: {predicted_labels}\")"
      ],
      "metadata": {
        "colab": {
          "base_uri": "https://localhost:8080/"
        },
        "id": "OaLzr7JwxOHl",
        "outputId": "35352af9-7f3f-4427-ea3a-e2cdc4bf1c7f"
      },
      "execution_count": 15,
      "outputs": [
        {
          "output_type": "stream",
          "name": "stdout",
          "text": [
            "Predicted labels: [1, 4]\n"
          ]
        }
      ]
    }
  ]
}